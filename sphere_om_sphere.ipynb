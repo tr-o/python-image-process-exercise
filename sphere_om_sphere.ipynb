{
 "cells": [
  {
   "cell_type": "code",
   "execution_count": 5,
   "metadata": {},
   "outputs": [
    {
     "data": {
      "text/plain": [
       "(10, 10)"
      ]
     },
     "execution_count": 5,
     "metadata": {},
     "output_type": "execute_result"
    }
   ],
   "source": [
    "\n",
    "import math\n",
    "\n",
    "\n",
    "cxLarge, cyLarge, radiusLarge = 50, 50, 100\n",
    "cxSmall, cySmall, radiusSmall = 60, 60, 10\n",
    "rcxSmall, rcySmall = cxSmall-cxLarge, cySmall-cyLarge\n",
    "\n",
    "# 以下、相対位置の世界へ(大球中心を原点)\n",
    "rcxSmall, rcySmall\n",
    "\n"
   ]
  },
  {
   "cell_type": "code",
   "execution_count": 6,
   "metadata": {},
   "outputs": [
    {
     "data": {
      "text/plain": [
       "(45.0, 7.386669472973496)"
      ]
     },
     "execution_count": 6,
     "metadata": {},
     "output_type": "execute_result"
    }
   ],
   "source": [
    "phi = math.atan(rcxSmall/rcySmall)\n",
    "theta = math.asin(rcxSmall/(math.cos(phi)*(radiusLarge + radiusSmall)))\n",
    "math.degrees(phi), math.degrees(theta)"
   ]
  },
  {
   "cell_type": "code",
   "execution_count": 7,
   "metadata": {},
   "outputs": [],
   "source": [
    "rczSmall = (radiusLarge + radiusSmall)* math.cos(theta)\n",
    "\n",
    "rcxTouch = radiusLarge*math.sin(theta)*math.cos(phi) \n",
    "rcytouch = radiusLarge*math.sin(theta)*math.sin(phi)\n",
    "rczTouch = radiusLarge*math.cos(theta)\n",
    "\n",
    "\n",
    "\n"
   ]
  },
  {
   "cell_type": "code",
   "execution_count": 8,
   "metadata": {},
   "outputs": [
    {
     "name": "stdout",
     "output_type": "stream",
     "text": [
      "smallParticle1\n",
      "smallParticle2\n",
      "{\n",
      "    \"smallParticle1\": {\n",
      "        \"cx\": 100,\n",
      "        \"cy\": 100,\n",
      "        \"diameter\": 10,\n",
      "        \"rPointTouching\": [\n",
      "            47.61904761904762,\n",
      "            47.61904761904762,\n",
      "            73.92464141076202\n",
      "        ],\n",
      "        \"rPointCenter\": [\n",
      "            50,\n",
      "            50,\n",
      "            77.62087348130012\n",
      "        ],\n",
      "        \"phi\": 0.7853981633974483,\n",
      "        \"theta\": 0.7388456747780925\n",
      "    },\n",
      "    \"smallParticle2\": {\n",
      "        \"cx\": 60,\n",
      "        \"cy\": 60,\n",
      "        \"diameter\": 12,\n",
      "        \"rPointTouching\": [\n",
      "            9.433962264150942,\n",
      "            9.433962264150942,\n",
      "            99.10600744655771\n",
      "        ],\n",
      "        \"rPointCenter\": [\n",
      "            10,\n",
      "            10,\n",
      "            105.05236789335117\n",
      "        ],\n",
      "        \"phi\": 0.7853981633974483,\n",
      "        \"theta\": 0.13381537848524966\n",
      "    }\n",
      "}\n"
     ]
    }
   ],
   "source": [
    "\n",
    "# cxSmall, cySmall, radiusSmall = 60, 60, 10\n",
    "import json\n",
    "\n",
    "\n",
    "class function:\n",
    "    def __init__(self, inputJson, cxLarge, cyLarge, radiusLarge):\n",
    "        self.smallParticlesJson = inputJson\n",
    "        self.numOfsmallParticles = len(inputJson)\n",
    "        self.cxLarge, self.cyLarge, self.radiusLarge = 50, 50, 100\n",
    "\n",
    "    def func1(self):\n",
    "        rPointsList =[]\n",
    "        for id, partItems in self.smallParticlesJson.items():\n",
    "            print(id)\n",
    "            cxSmall = partItems[\"cx\"]\n",
    "            cySmall = partItems[\"cy\"]\n",
    "            radiusSmall = partItems[\"diameter\"]/2\n",
    "\n",
    "            rcxSmall, rcySmall = cxSmall - self.cxLarge, cySmall - self.cyLarge\n",
    "\n",
    "            phi = math.atan(rcxSmall/rcySmall)\n",
    "            theta = math.asin(rcxSmall/(math.cos(phi)*(radiusLarge + radiusSmall)))\n",
    "            math.degrees(phi), math.degrees(theta)\n",
    "\n",
    "            rczSmall = (radiusLarge + radiusSmall)* math.cos(theta)\n",
    "\n",
    "            rcxTouch = radiusLarge*math.sin(theta)*math.cos(phi) \n",
    "            rcyTouch = radiusLarge*math.sin(theta)*math.sin(phi)\n",
    "            rczTouch = radiusLarge*math.cos(theta)\n",
    "            rPointTouching = [rcxTouch,rcyTouch,rczTouch]\n",
    "            rPointCenter = [rcxSmall,rcySmall,rczSmall]\n",
    "\n",
    "            self.smallParticlesJson[id][\"rPointTouching\"] = rPointTouching\n",
    "            self.smallParticlesJson[id][\"rPointCenter\"] = rPointCenter\n",
    "            self.smallParticlesJson[id][\"phi\"] = phi\n",
    "            self.smallParticlesJson[id][\"theta\"] = theta\n",
    "            \n",
    "            rPointsList.append(rPointTouching)\n",
    "\n",
    "        # print(self.smallParticlesJson)\n",
    "\n",
    "\n",
    "inputJson = {\n",
    "            \"smallParticle1\":{\n",
    "                \"cx\":100,\n",
    "                \"cy\":100,\n",
    "                \"diameter\":10\n",
    "            },\n",
    "            \"smallParticle2\":{\n",
    "                \"cx\":60,\n",
    "                \"cy\":60,\n",
    "                \"diameter\":12\n",
    "            }\n",
    "        }\n",
    "\n",
    "cxLarge, cyLarge, radiusLarge = 50, 50, 100\n",
    "a = function(inputJson, cxLarge, cyLarge, radiusLarge)\n",
    "a.func1()\n",
    "\n",
    "\n",
    "\n",
    "json_string = json.dumps(inputJson, ensure_ascii=False, indent=4)\n",
    "print(json_string)\n"
   ]
  }
 ],
 "metadata": {
  "kernelspec": {
   "display_name": "ML",
   "language": "python",
   "name": "python3"
  },
  "language_info": {
   "codemirror_mode": {
    "name": "ipython",
    "version": 3
   },
   "file_extension": ".py",
   "mimetype": "text/x-python",
   "name": "python",
   "nbconvert_exporter": "python",
   "pygments_lexer": "ipython3",
   "version": "3.7.16"
  },
  "orig_nbformat": 4
 },
 "nbformat": 4,
 "nbformat_minor": 2
}
